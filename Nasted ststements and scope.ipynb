{
 "cells": [
  {
   "cell_type": "code",
   "execution_count": 1,
   "id": "688ed592",
   "metadata": {},
   "outputs": [],
   "source": [
    "x = 25\n",
    "\n",
    "def printer():\n",
    "    x = 50\n",
    "    return x"
   ]
  },
  {
   "cell_type": "code",
   "execution_count": 2,
   "id": "5d43d987",
   "metadata": {},
   "outputs": [
    {
     "name": "stdout",
     "output_type": "stream",
     "text": [
      "50\n"
     ]
    }
   ],
   "source": [
    "print(printer())"
   ]
  },
  {
   "cell_type": "code",
   "execution_count": 3,
   "id": "098c5aa3",
   "metadata": {},
   "outputs": [],
   "source": [
    "# x is local here:\n",
    "f = lambda x:x**2"
   ]
  },
  {
   "cell_type": "code",
   "execution_count": 5,
   "id": "7ac991ec",
   "metadata": {},
   "outputs": [
    {
     "name": "stdout",
     "output_type": "stream",
     "text": [
      "hello sam\n"
     ]
    }
   ],
   "source": [
    "name = 'this is a blobal name'\n",
    "\n",
    "def greet():\n",
    "    #enclosing function\n",
    "    name = 'sam'\n",
    "    \n",
    "    def hello():\n",
    "        print('hello '+name)\n",
    "        \n",
    "    hello()\n",
    "    \n",
    "greet()    "
   ]
  },
  {
   "cell_type": "code",
   "execution_count": 6,
   "id": "566adf05",
   "metadata": {},
   "outputs": [
    {
     "name": "stdout",
     "output_type": "stream",
     "text": [
      "this is a blobal name\n"
     ]
    }
   ],
   "source": [
    "print (name)"
   ]
  },
  {
   "cell_type": "code",
   "execution_count": 7,
   "id": "c9a61a06",
   "metadata": {},
   "outputs": [
    {
     "data": {
      "text/plain": [
       "<function len(obj, /)>"
      ]
     },
     "execution_count": 7,
     "metadata": {},
     "output_type": "execute_result"
    }
   ],
   "source": [
    "len"
   ]
  },
  {
   "cell_type": "code",
   "execution_count": 8,
   "id": "c81fba44",
   "metadata": {},
   "outputs": [
    {
     "name": "stdout",
     "output_type": "stream",
     "text": [
      "x is 50\n",
      "changed local x to 2\n",
      "x is still 50\n"
     ]
    }
   ],
   "source": [
    "x = 50\n",
    "\n",
    "def func(x):\n",
    "    print('x is', x)\n",
    "    x = 2\n",
    "    print ('changed local x to', x)\n",
    "    \n",
    "func(x)\n",
    "print('x is still',x)\n"
   ]
  },
  {
   "cell_type": "code",
   "execution_count": 9,
   "id": "3c267e20",
   "metadata": {},
   "outputs": [
    {
     "name": "stdout",
     "output_type": "stream",
     "text": [
      "before calling func(), x is: 50\n",
      "this function is now using the global x!\n",
      "because of global x is:  50\n",
      "ran func(), x is: 2\n",
      "value of x (outside of func()) is:  2\n"
     ]
    }
   ],
   "source": [
    "x = 50\n",
    "\n",
    "def func():\n",
    "    global x\n",
    "    print('this function is now using the global x!')\n",
    "    print('because of global x is: ', x)\n",
    "    x = 2\n",
    "    print('ran func(), x is:', x)\n",
    "    \n",
    "print('before calling func(), x is:', x)\n",
    "func()\n",
    "print('value of x (outside of func()) is: ', x)"
   ]
  },
  {
   "cell_type": "code",
   "execution_count": null,
   "id": "fc0ab75a",
   "metadata": {},
   "outputs": [],
   "source": [
    "\n",
    "\n",
    "\n",
    "\n",
    "\n",
    "\n",
    "\n",
    "\n",
    "\n",
    "\n",
    "\n",
    "\n",
    "\n"
   ]
  }
 ],
 "metadata": {
  "kernelspec": {
   "display_name": "Python 3 (ipykernel)",
   "language": "python",
   "name": "python3"
  },
  "language_info": {
   "codemirror_mode": {
    "name": "ipython",
    "version": 3
   },
   "file_extension": ".py",
   "mimetype": "text/x-python",
   "name": "python",
   "nbconvert_exporter": "python",
   "pygments_lexer": "ipython3",
   "version": "3.10.9"
  }
 },
 "nbformat": 4,
 "nbformat_minor": 5
}
