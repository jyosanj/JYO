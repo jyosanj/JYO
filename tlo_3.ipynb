{
 "cells": [
  {
   "cell_type": "code",
   "execution_count": 3,
   "id": "c60d511b",
   "metadata": {},
   "outputs": [],
   "source": [
    "name=\"anthony\""
   ]
  },
  {
   "cell_type": "code",
   "execution_count": 4,
   "id": "c9379ae6",
   "metadata": {},
   "outputs": [
    {
     "data": {
      "text/plain": [
       "'anthony'"
      ]
     },
     "execution_count": 4,
     "metadata": {},
     "output_type": "execute_result"
    }
   ],
   "source": [
    "name"
   ]
  },
  {
   "cell_type": "code",
   "execution_count": 5,
   "id": "69485092",
   "metadata": {},
   "outputs": [
    {
     "data": {
      "text/plain": [
       "str"
      ]
     },
     "execution_count": 5,
     "metadata": {},
     "output_type": "execute_result"
    }
   ],
   "source": [
    "type(name)"
   ]
  },
  {
   "cell_type": "code",
   "execution_count": 31,
   "id": "7056ad55",
   "metadata": {},
   "outputs": [
    {
     "ename": "TypeError",
     "evalue": "unsupported operand type(s) for -: 'int' and 'str'",
     "output_type": "error",
     "traceback": [
      "\u001b[1;31m---------------------------------------------------------------------------\u001b[0m",
      "\u001b[1;31mTypeError\u001b[0m                                 Traceback (most recent call last)",
      "Cell \u001b[1;32mIn[31], line 1\u001b[0m\n\u001b[1;32m----> 1\u001b[0m name[\u001b[38;5;241;43m0\u001b[39;49m\u001b[38;5;241;43m-\u001b[39;49m\u001b[38;5;124;43m'\u001b[39;49m\u001b[38;5;124;43mn\u001b[39;49m\u001b[38;5;124;43m'\u001b[39;49m]\n",
      "\u001b[1;31mTypeError\u001b[0m: unsupported operand type(s) for -: 'int' and 'str'"
     ]
    }
   ],
   "source": [
    "name[0-'n'] "
   ]
  },
  {
   "cell_type": "code",
   "execution_count": 32,
   "id": "7be2ab1f",
   "metadata": {},
   "outputs": [
    {
     "data": {
      "text/plain": [
       "'nthony'"
      ]
     },
     "execution_count": 32,
     "metadata": {},
     "output_type": "execute_result"
    }
   ],
   "source": [
    "last_letter"
   ]
  },
  {
   "cell_type": "code",
   "execution_count": 33,
   "id": "822067b5",
   "metadata": {},
   "outputs": [
    {
     "data": {
      "text/plain": [
       "'pnthony'"
      ]
     },
     "execution_count": 33,
     "metadata": {},
     "output_type": "execute_result"
    }
   ],
   "source": [
    "'p'+last_letter"
   ]
  },
  {
   "cell_type": "code",
   "execution_count": 34,
   "id": "443b19e3",
   "metadata": {},
   "outputs": [
    {
     "data": {
      "text/plain": [
       "'hello world it is a beautifulday'"
      ]
     },
     "execution_count": 34,
     "metadata": {},
     "output_type": "execute_result"
    }
   ],
   "source": [
    "'hello world it is a beautifulday'"
   ]
  },
  {
   "cell_type": "raw",
   "id": "ad4953b1",
   "metadata": {},
   "source": [
    "letter='z'"
   ]
  },
  {
   "cell_type": "code",
   "execution_count": 35,
   "id": "63ba9d98",
   "metadata": {},
   "outputs": [
    {
     "data": {
      "text/plain": [
       "'z'"
      ]
     },
     "execution_count": 35,
     "metadata": {},
     "output_type": "execute_result"
    }
   ],
   "source": [
    "letter"
   ]
  },
  {
   "cell_type": "code",
   "execution_count": 36,
   "id": "f924f04c",
   "metadata": {},
   "outputs": [
    {
     "data": {
      "text/plain": [
       "'zzzzzzzzzzzzzzzzzzzz'"
      ]
     },
     "execution_count": 36,
     "metadata": {},
     "output_type": "execute_result"
    }
   ],
   "source": [
    "letter*20"
   ]
  },
  {
   "cell_type": "code",
   "execution_count": 41,
   "id": "db6cf811",
   "metadata": {},
   "outputs": [
    {
     "data": {
      "text/plain": [
       "'4050'"
      ]
     },
     "execution_count": 41,
     "metadata": {},
     "output_type": "execute_result"
    }
   ],
   "source": [
    "'40'+'50'"
   ]
  },
  {
   "cell_type": "code",
   "execution_count": 45,
   "id": "b3bef86b",
   "metadata": {},
   "outputs": [
    {
     "name": "stdout",
     "output_type": "stream",
     "text": [
      "hello my name is staphen\n"
     ]
    }
   ],
   "source": [
    "my_name='staphen'\n",
    "print('hello my name is '+my_name)"
   ]
  },
  {
   "cell_type": "code",
   "execution_count": 46,
   "id": "2ad4ae4c",
   "metadata": {},
   "outputs": [],
   "source": [
    "#.format method"
   ]
  },
  {
   "cell_type": "code",
   "execution_count": 47,
   "id": "672af5f5",
   "metadata": {},
   "outputs": [],
   "source": [
    "#'string here{} {} {}'.formate{something1,something2,something3}"
   ]
  },
  {
   "cell_type": "code",
   "execution_count": 1,
   "id": "7eaea7b5",
   "metadata": {},
   "outputs": [
    {
     "name": "stdout",
     "output_type": "stream",
     "text": [
      "i am a student of medhavi skill university\n"
     ]
    }
   ],
   "source": [
    "print('i am a student of {}'.format('medhavi skill university'))"
   ]
  },
  {
   "cell_type": "code",
   "execution_count": 2,
   "id": "19e67377",
   "metadata": {},
   "outputs": [
    {
     "name": "stdout",
     "output_type": "stream",
     "text": [
      "The quick brownfox\n"
     ]
    }
   ],
   "source": [
    "print('The {q} {b}{f}'.format(b='brown',f='fox',q='quick')) "
   ]
  },
  {
   "cell_type": "code",
   "execution_count": 4,
   "id": "465782b6",
   "metadata": {},
   "outputs": [],
   "source": [
    "#float formatting{value:width.precision f}"
   ]
  },
  {
   "cell_type": "code",
   "execution_count": 61,
   "id": "1ea67cc6",
   "metadata": {},
   "outputs": [],
   "source": [
    "result=100/77"
   ]
  },
  {
   "cell_type": "code",
   "execution_count": 62,
   "id": "441624ef",
   "metadata": {},
   "outputs": [
    {
     "name": "stdout",
     "output_type": "stream",
     "text": [
      "i love programming\n"
     ]
    }
   ],
   "source": [
    "my_catch='i love programming'\n",
    "print(my_catch)"
   ]
  },
  {
   "cell_type": "code",
   "execution_count": 63,
   "id": "ae40df9d",
   "metadata": {},
   "outputs": [
    {
     "name": "stdout",
     "output_type": "stream",
     "text": [
      "the result is 0.2844\n"
     ]
    }
   ],
   "source": [
    "py=3.14\n",
    "b=592\n",
    "c=6535\n",
    "d=(py*b/c)\n",
    "print('the result is {r:1.4f}'.format(r=d))"
   ]
  },
  {
   "cell_type": "code",
   "execution_count": 65,
   "id": "2fae20bf",
   "metadata": {},
   "outputs": [
    {
     "name": "stdout",
     "output_type": "stream",
     "text": [
      "enter the first number20\n",
      "enter the second number40\n",
      "the result is 800.0\n"
     ]
    }
   ],
   "source": [
    "#write a python program that calculates the area of a rectangle using the input method.\n",
    "h=float(input(\"enter the first number\"))\n",
    "w=float(input(\"enter the second number\"))\n",
    "result=(w*h)\n",
    "print('the result is',result)"
   ]
  },
  {
   "cell_type": "raw",
   "id": "3bad8bac",
   "metadata": {},
   "source": [
    "#write a python program that calculates the value of a cylinder using the input method.\n",
    "pi=3.14\n",
    "r=float(input('enter the p'))\n",
    "h=float(input('enter the h'))\n",
    "volume=pi*(r**2)*h\n",
    "print('the volume of cylinder is',volume)\n"
   ]
  },
  {
   "cell_type": "code",
   "execution_count": 68,
   "id": "191eda30",
   "metadata": {},
   "outputs": [
    {
     "name": "stdout",
     "output_type": "stream",
     "text": [
      "enter the p32\n",
      "enter the h67\n",
      "the volume of cylinder is 215429.12\n"
     ]
    }
   ],
   "source": [
    "pi=3.14\n",
    "r=float(input('enter the p'))\n",
    "h=float(input('enter the h'))\n",
    "volume=pi*(r**2)*h\n",
    "print('the volume of cylinder is',volume)\n"
   ]
  },
  {
   "cell_type": "code",
   "execution_count": null,
   "id": "ba52eb6a",
   "metadata": {},
   "outputs": [],
   "source": []
  }
 ],
 "metadata": {
  "kernelspec": {
   "display_name": "Python 3 (ipykernel)",
   "language": "python",
   "name": "python3"
  },
  "language_info": {
   "codemirror_mode": {
    "name": "ipython",
    "version": 3
   },
   "file_extension": ".py",
   "mimetype": "text/x-python",
   "name": "python",
   "nbconvert_exporter": "python",
   "pygments_lexer": "ipython3",
   "version": "3.10.9"
  }
 },
 "nbformat": 4,
 "nbformat_minor": 5
}
