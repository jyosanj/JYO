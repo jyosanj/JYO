{
 "cells": [
  {
   "cell_type": "code",
   "execution_count": 2,
   "id": "8f566a23",
   "metadata": {},
   "outputs": [
    {
     "data": {
      "text/plain": [
       "'hellow'"
      ]
     },
     "execution_count": 2,
     "metadata": {},
     "output_type": "execute_result"
    }
   ],
   "source": [
    "'hellow'"
   ]
  },
  {
   "cell_type": "code",
   "execution_count": 3,
   "id": "af9b0629",
   "metadata": {},
   "outputs": [
    {
     "data": {
      "text/plain": [
       "'hellow'"
      ]
     },
     "execution_count": 3,
     "metadata": {},
     "output_type": "execute_result"
    }
   ],
   "source": [
    "\"hellow\""
   ]
  },
  {
   "cell_type": "code",
   "execution_count": 5,
   "id": "383c6420",
   "metadata": {},
   "outputs": [
    {
     "name": "stdout",
     "output_type": "stream",
     "text": [
      "it is a beauti8ful day!\u0007nd i want to go outside\n"
     ]
    }
   ],
   "source": [
    "print('it is a beauti8ful day!\\and i want to go outside')"
   ]
  },
  {
   "cell_type": "code",
   "execution_count": 6,
   "id": "4f450717",
   "metadata": {},
   "outputs": [
    {
     "name": "stdout",
     "output_type": "stream",
     "text": [
      "python user;indentalion\those are spaces\n"
     ]
    }
   ],
   "source": [
    "print('python user;indentalion\\those are spaces')"
   ]
  },
  {
   "cell_type": "code",
   "execution_count": 7,
   "id": "24abfc50",
   "metadata": {},
   "outputs": [],
   "source": [
    "my_string='tuesday'"
   ]
  },
  {
   "cell_type": "code",
   "execution_count": 8,
   "id": "246ead18",
   "metadata": {},
   "outputs": [
    {
     "data": {
      "text/plain": [
       "6"
      ]
     },
     "execution_count": 8,
     "metadata": {},
     "output_type": "execute_result"
    }
   ],
   "source": [
    "len(my_string)\n",
    "len('sanjay')"
   ]
  },
  {
   "cell_type": "code",
   "execution_count": 13,
   "id": "edbdc8e5",
   "metadata": {},
   "outputs": [],
   "source": [
    "#Indexing\n",
    "mystring='hellow world'"
   ]
  },
  {
   "cell_type": "markdown",
   "id": "a1286779",
   "metadata": {},
   "source": [
    "mystring "
   ]
  }
 ],
 "metadata": {
  "kernelspec": {
   "display_name": "Python 3 (ipykernel)",
   "language": "python",
   "name": "python3"
  },
  "language_info": {
   "codemirror_mode": {
    "name": "ipython",
    "version": 3
   },
   "file_extension": ".py",
   "mimetype": "text/x-python",
   "name": "python",
   "nbconvert_exporter": "python",
   "pygments_lexer": "ipython3",
   "version": "3.9.12"
  }
 },
 "nbformat": 4,
 "nbformat_minor": 5
}
