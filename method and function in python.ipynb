{
 "cells": [
  {
   "cell_type": "code",
   "execution_count": 1,
   "id": "449d1e7b",
   "metadata": {},
   "outputs": [],
   "source": [
    "#method in pyuthon"
   ]
  },
  {
   "cell_type": "code",
   "execution_count": 2,
   "id": "116439b4",
   "metadata": {},
   "outputs": [],
   "source": [
    "mylist=[1,2,3]\n",
    "mylist.append(4)"
   ]
  },
  {
   "cell_type": "code",
   "execution_count": 3,
   "id": "829dd3b6",
   "metadata": {},
   "outputs": [
    {
     "data": {
      "text/plain": [
       "[1, 2, 3, 4]"
      ]
     },
     "execution_count": 3,
     "metadata": {},
     "output_type": "execute_result"
    }
   ],
   "source": [
    "mylist"
   ]
  },
  {
   "cell_type": "code",
   "execution_count": 4,
   "id": "b2e9abc7",
   "metadata": {},
   "outputs": [
    {
     "data": {
      "text/plain": [
       "4"
      ]
     },
     "execution_count": 4,
     "metadata": {},
     "output_type": "execute_result"
    }
   ],
   "source": [
    "mylist.pop()"
   ]
  },
  {
   "cell_type": "code",
   "execution_count": 5,
   "id": "2e074b30",
   "metadata": {},
   "outputs": [
    {
     "data": {
      "text/plain": [
       "[1, 2, 3]"
      ]
     },
     "execution_count": 5,
     "metadata": {},
     "output_type": "execute_result"
    }
   ],
   "source": [
    "mylist\n"
   ]
  },
  {
   "cell_type": "code",
   "execution_count": 7,
   "id": "79255907",
   "metadata": {},
   "outputs": [
    {
     "name": "stdout",
     "output_type": "stream",
     "text": [
      "Help on built-in function insert:\n",
      "\n",
      "insert(index, object, /) method of builtins.list instance\n",
      "    Insert object before index.\n",
      "\n"
     ]
    }
   ],
   "source": [
    "help(mylist.insert)"
   ]
  },
  {
   "cell_type": "code",
   "execution_count": 1,
   "id": "66536616",
   "metadata": {},
   "outputs": [
    {
     "data": {
      "text/plain": [
       "False"
      ]
     },
     "execution_count": 1,
     "metadata": {},
     "output_type": "execute_result"
    }
   ],
   "source": [
    "def even_check(num):\n",
    "    result=num%2==0\n",
    "    return result\n",
    "even_check(5)"
   ]
  },
  {
   "cell_type": "code",
   "execution_count": 3,
   "id": "97888bf5",
   "metadata": {},
   "outputs": [
    {
     "data": {
      "text/plain": [
       "True"
      ]
     },
     "execution_count": 3,
     "metadata": {},
     "output_type": "execute_result"
    }
   ],
   "source": [
    "def check_even(num_list):\n",
    "    for number in num_list:\n",
    "        return True\n",
    "    else:\n",
    "        pass\n",
    "    return False\n",
    "check_even([1,2,4,5])"
   ]
  },
  {
   "cell_type": "code",
   "execution_count": 26,
   "id": "f9c994d1",
   "metadata": {},
   "outputs": [],
   "source": [
    "#def keyword"
   ]
  },
  {
   "cell_type": "code",
   "execution_count": 27,
   "id": "29d3b501",
   "metadata": {},
   "outputs": [],
   "source": [
    "def name_of_function():\n",
    "    '''\n",
    "    docstring explains function\n",
    "    '''\n",
    "    print('hello sanjay')"
   ]
  },
  {
   "cell_type": "code",
   "execution_count": 28,
   "id": "b2bf7f68",
   "metadata": {},
   "outputs": [
    {
     "name": "stdout",
     "output_type": "stream",
     "text": [
      "hello sanjay\n"
     ]
    }
   ],
   "source": [
    "name_of_function()"
   ]
  },
  {
   "cell_type": "code",
   "execution_count": 38,
   "id": "54b69298",
   "metadata": {},
   "outputs": [],
   "source": [
    "def arg_name(name):\n",
    "    print(f'hello my name is {name}')\n",
    "           "
   ]
  },
  {
   "cell_type": "code",
   "execution_count": 39,
   "id": "2269bb28",
   "metadata": {},
   "outputs": [
    {
     "name": "stdout",
     "output_type": "stream",
     "text": [
      "hello my name is sanjay\n"
     ]
    }
   ],
   "source": [
    "name=arg_name('sanjay')"
   ]
  },
  {
   "cell_type": "code",
   "execution_count": 40,
   "id": "30dfa5c5",
   "metadata": {},
   "outputs": [],
   "source": [
    "def add_function(num1,num2):\n",
    "    return num1+num2"
   ]
  },
  {
   "cell_type": "code",
   "execution_count": 41,
   "id": "369c808a",
   "metadata": {},
   "outputs": [],
   "source": [
    "result = add_function(20,30)"
   ]
  },
  {
   "cell_type": "code",
   "execution_count": 42,
   "id": "59b4d5f0",
   "metadata": {},
   "outputs": [
    {
     "data": {
      "text/plain": [
       "50"
      ]
     },
     "execution_count": 42,
     "metadata": {},
     "output_type": "execute_result"
    }
   ],
   "source": [
    "result"
   ]
  },
  {
   "cell_type": "code",
   "execution_count": 44,
   "id": "e1f9a2d4",
   "metadata": {},
   "outputs": [],
   "source": [
    "def say_hello():\n",
    "    print('hello')"
   ]
  },
  {
   "cell_type": "code",
   "execution_count": 45,
   "id": "681597ca",
   "metadata": {},
   "outputs": [
    {
     "name": "stdout",
     "output_type": "stream",
     "text": [
      "hello\n"
     ]
    }
   ],
   "source": [
    "say_hello()"
   ]
  },
  {
   "cell_type": "code",
   "execution_count": 46,
   "id": "02668efc",
   "metadata": {},
   "outputs": [],
   "source": [
    "def say_hello():\n",
    "    print('hello')\n",
    "    print('how')\n",
    "    print('are')\n",
    "    print('you')"
   ]
  },
  {
   "cell_type": "code",
   "execution_count": 47,
   "id": "de190416",
   "metadata": {},
   "outputs": [
    {
     "name": "stdout",
     "output_type": "stream",
     "text": [
      "hello\n",
      "how\n",
      "are\n",
      "you\n"
     ]
    }
   ],
   "source": [
    "say_hello()"
   ]
  },
  {
   "cell_type": "code",
   "execution_count": null,
   "id": "1dfc1c4e",
   "metadata": {},
   "outputs": [],
   "source": []
  }
 ],
 "metadata": {
  "kernelspec": {
   "display_name": "Python 3 (ipykernel)",
   "language": "python",
   "name": "python3"
  },
  "language_info": {
   "codemirror_mode": {
    "name": "ipython",
    "version": 3
   },
   "file_extension": ".py",
   "mimetype": "text/x-python",
   "name": "python",
   "nbconvert_exporter": "python",
   "pygments_lexer": "ipython3",
   "version": "3.10.9"
  }
 },
 "nbformat": 4,
 "nbformat_minor": 5
}
